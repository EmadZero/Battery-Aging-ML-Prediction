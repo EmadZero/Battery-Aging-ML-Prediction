{
 "cells": [
  {
   "cell_type": "code",
   "execution_count": 2,
   "metadata": {},
   "outputs": [],
   "source": [
    "import pandas as pd\n",
    "from matplotlib import pyplot as plt"
   ]
  },
  {
   "cell_type": "markdown",
   "metadata": {},
   "source": [
    "# Batch 1 Data EDA"
   ]
  },
  {
   "cell_type": "code",
   "execution_count": 3,
   "metadata": {},
   "outputs": [],
   "source": [
    "batch1 = pd.read_csv('/Users/shelleygoel/Code/battery_life_model/datasets/tri/Batch_1.csv')"
   ]
  },
  {
   "cell_type": "code",
   "execution_count": 4,
   "metadata": {},
   "outputs": [
    {
     "name": "stdout",
     "output_type": "stream",
     "text": [
      "<class 'pandas.core.frame.DataFrame'>\n",
      "RangeIndex: 40951666 entries, 0 to 40951665\n",
      "Data columns (total 9 columns):\n",
      " #   Column      Dtype  \n",
      "---  ------      -----  \n",
      " 0   Unnamed: 0  int64  \n",
      " 1   index       int64  \n",
      " 2   I           float64\n",
      " 3   Qc          float64\n",
      " 4   Qd          float64\n",
      " 5   T           float64\n",
      " 6   V           float64\n",
      " 7   t           float64\n",
      " 8   cell_type   object \n",
      "dtypes: float64(6), int64(2), object(1)\n",
      "memory usage: 2.7+ GB\n"
     ]
    }
   ],
   "source": [
    "batch1.info()"
   ]
  },
  {
   "cell_type": "code",
   "execution_count": 5,
   "metadata": {},
   "outputs": [
    {
     "data": {
      "text/html": [
       "<div>\n",
       "<style scoped>\n",
       "    .dataframe tbody tr th:only-of-type {\n",
       "        vertical-align: middle;\n",
       "    }\n",
       "\n",
       "    .dataframe tbody tr th {\n",
       "        vertical-align: top;\n",
       "    }\n",
       "\n",
       "    .dataframe thead th {\n",
       "        text-align: right;\n",
       "    }\n",
       "</style>\n",
       "<table border=\"1\" class=\"dataframe\">\n",
       "  <thead>\n",
       "    <tr style=\"text-align: right;\">\n",
       "      <th></th>\n",
       "      <th>Unnamed: 0</th>\n",
       "      <th>index</th>\n",
       "      <th>I</th>\n",
       "      <th>Qc</th>\n",
       "      <th>Qd</th>\n",
       "      <th>T</th>\n",
       "      <th>V</th>\n",
       "      <th>t</th>\n",
       "    </tr>\n",
       "  </thead>\n",
       "  <tbody>\n",
       "    <tr>\n",
       "      <th>count</th>\n",
       "      <td>4.095167e+07</td>\n",
       "      <td>4.095167e+07</td>\n",
       "      <td>4.095167e+07</td>\n",
       "      <td>4.095167e+07</td>\n",
       "      <td>4.095167e+07</td>\n",
       "      <td>4.095167e+07</td>\n",
       "      <td>4.095167e+07</td>\n",
       "      <td>4.095167e+07</td>\n",
       "    </tr>\n",
       "    <tr>\n",
       "      <th>mean</th>\n",
       "      <td>4.341474e+02</td>\n",
       "      <td>4.341474e+02</td>\n",
       "      <td>4.258591e-02</td>\n",
       "      <td>8.305295e-01</td>\n",
       "      <td>2.802235e-01</td>\n",
       "      <td>3.341632e+01</td>\n",
       "      <td>3.102080e+00</td>\n",
       "      <td>3.348331e+01</td>\n",
       "    </tr>\n",
       "    <tr>\n",
       "      <th>std</th>\n",
       "      <td>2.765926e+02</td>\n",
       "      <td>2.765926e+02</td>\n",
       "      <td>3.305544e+00</td>\n",
       "      <td>3.613669e-01</td>\n",
       "      <td>4.117133e-01</td>\n",
       "      <td>2.468575e+00</td>\n",
       "      <td>5.416468e-01</td>\n",
       "      <td>1.528188e+02</td>\n",
       "    </tr>\n",
       "    <tr>\n",
       "      <th>min</th>\n",
       "      <td>0.000000e+00</td>\n",
       "      <td>0.000000e+00</td>\n",
       "      <td>-4.708151e+00</td>\n",
       "      <td>0.000000e+00</td>\n",
       "      <td>0.000000e+00</td>\n",
       "      <td>0.000000e+00</td>\n",
       "      <td>0.000000e+00</td>\n",
       "      <td>0.000000e+00</td>\n",
       "    </tr>\n",
       "    <tr>\n",
       "      <th>25%</th>\n",
       "      <td>2.030000e+02</td>\n",
       "      <td>2.030000e+02</td>\n",
       "      <td>-3.999819e+00</td>\n",
       "      <td>7.800775e-01</td>\n",
       "      <td>6.996788e-10</td>\n",
       "      <td>3.144079e+01</td>\n",
       "      <td>2.864279e+00</td>\n",
       "      <td>9.771638e+00</td>\n",
       "    </tr>\n",
       "    <tr>\n",
       "      <th>50%</th>\n",
       "      <td>4.120000e+02</td>\n",
       "      <td>4.120000e+02</td>\n",
       "      <td>5.268010e-02</td>\n",
       "      <td>1.014781e+00</td>\n",
       "      <td>1.844345e-08</td>\n",
       "      <td>3.323259e+01</td>\n",
       "      <td>3.357477e+00</td>\n",
       "      <td>2.549397e+01</td>\n",
       "    </tr>\n",
       "    <tr>\n",
       "      <th>75%</th>\n",
       "      <td>6.300000e+02</td>\n",
       "      <td>6.300000e+02</td>\n",
       "      <td>2.400912e+00</td>\n",
       "      <td>1.065203e+00</td>\n",
       "      <td>6.286239e-01</td>\n",
       "      <td>3.513223e+01</td>\n",
       "      <td>3.518129e+00</td>\n",
       "      <td>3.900899e+01</td>\n",
       "    </tr>\n",
       "    <tr>\n",
       "      <th>max</th>\n",
       "      <td>1.225000e+03</td>\n",
       "      <td>1.225000e+03</td>\n",
       "      <td>8.169455e+00</td>\n",
       "      <td>2.965895e+00</td>\n",
       "      <td>2.884085e+00</td>\n",
       "      <td>4.341938e+01</td>\n",
       "      <td>6.606142e+00</td>\n",
       "      <td>4.074613e+03</td>\n",
       "    </tr>\n",
       "  </tbody>\n",
       "</table>\n",
       "</div>"
      ],
      "text/plain": [
       "         Unnamed: 0         index             I            Qc            Qd  \\\n",
       "count  4.095167e+07  4.095167e+07  4.095167e+07  4.095167e+07  4.095167e+07   \n",
       "mean   4.341474e+02  4.341474e+02  4.258591e-02  8.305295e-01  2.802235e-01   \n",
       "std    2.765926e+02  2.765926e+02  3.305544e+00  3.613669e-01  4.117133e-01   \n",
       "min    0.000000e+00  0.000000e+00 -4.708151e+00  0.000000e+00  0.000000e+00   \n",
       "25%    2.030000e+02  2.030000e+02 -3.999819e+00  7.800775e-01  6.996788e-10   \n",
       "50%    4.120000e+02  4.120000e+02  5.268010e-02  1.014781e+00  1.844345e-08   \n",
       "75%    6.300000e+02  6.300000e+02  2.400912e+00  1.065203e+00  6.286239e-01   \n",
       "max    1.225000e+03  1.225000e+03  8.169455e+00  2.965895e+00  2.884085e+00   \n",
       "\n",
       "                  T             V             t  \n",
       "count  4.095167e+07  4.095167e+07  4.095167e+07  \n",
       "mean   3.341632e+01  3.102080e+00  3.348331e+01  \n",
       "std    2.468575e+00  5.416468e-01  1.528188e+02  \n",
       "min    0.000000e+00  0.000000e+00  0.000000e+00  \n",
       "25%    3.144079e+01  2.864279e+00  9.771638e+00  \n",
       "50%    3.323259e+01  3.357477e+00  2.549397e+01  \n",
       "75%    3.513223e+01  3.518129e+00  3.900899e+01  \n",
       "max    4.341938e+01  6.606142e+00  4.074613e+03  "
      ]
     },
     "execution_count": 5,
     "metadata": {},
     "output_type": "execute_result"
    }
   ],
   "source": [
    "batch1.describe()"
   ]
  },
  {
   "cell_type": "code",
   "execution_count": 6,
   "metadata": {},
   "outputs": [],
   "source": [
    "b1c0_df = batch1[batch1.cell_type == \"b1c0\"]\n",
    "cycle_df = b1c0_df[(b1c0_df[\"index\"] == 1)]\n",
    "discharge_df = cycle_df[cycle_df.I < 0] \n",
    "charge_df = cycle_df[(cycle_df.I >= 0) & (cycle_df.Qd == 0)]"
   ]
  },
  {
   "cell_type": "markdown",
   "metadata": {},
   "source": [
    "# Charge Profile"
   ]
  },
  {
   "cell_type": "code",
   "execution_count": 7,
   "metadata": {},
   "outputs": [
    {
     "data": {
      "text/html": [
       "<div>\n",
       "<style scoped>\n",
       "    .dataframe tbody tr th:only-of-type {\n",
       "        vertical-align: middle;\n",
       "    }\n",
       "\n",
       "    .dataframe tbody tr th {\n",
       "        vertical-align: top;\n",
       "    }\n",
       "\n",
       "    .dataframe thead th {\n",
       "        text-align: right;\n",
       "    }\n",
       "</style>\n",
       "<table border=\"1\" class=\"dataframe\">\n",
       "  <thead>\n",
       "    <tr style=\"text-align: right;\">\n",
       "      <th></th>\n",
       "      <th>Unnamed: 0</th>\n",
       "      <th>index</th>\n",
       "      <th>I</th>\n",
       "      <th>Qc</th>\n",
       "      <th>Qd</th>\n",
       "      <th>T</th>\n",
       "      <th>V</th>\n",
       "      <th>t</th>\n",
       "      <th>cell_type</th>\n",
       "    </tr>\n",
       "  </thead>\n",
       "  <tbody>\n",
       "    <tr>\n",
       "      <th>2</th>\n",
       "      <td>1</td>\n",
       "      <td>1</td>\n",
       "      <td>0.000000</td>\n",
       "      <td>0.000000</td>\n",
       "      <td>0.0</td>\n",
       "      <td>31.632496</td>\n",
       "      <td>2.026416</td>\n",
       "      <td>0.000000</td>\n",
       "      <td>b1c0</td>\n",
       "    </tr>\n",
       "    <tr>\n",
       "      <th>3</th>\n",
       "      <td>1</td>\n",
       "      <td>1</td>\n",
       "      <td>0.215908</td>\n",
       "      <td>0.000001</td>\n",
       "      <td>0.0</td>\n",
       "      <td>31.632496</td>\n",
       "      <td>2.039388</td>\n",
       "      <td>0.002417</td>\n",
       "      <td>b1c0</td>\n",
       "    </tr>\n",
       "    <tr>\n",
       "      <th>4</th>\n",
       "      <td>1</td>\n",
       "      <td>1</td>\n",
       "      <td>0.359831</td>\n",
       "      <td>0.000001</td>\n",
       "      <td>0.0</td>\n",
       "      <td>31.632496</td>\n",
       "      <td>2.051660</td>\n",
       "      <td>0.002912</td>\n",
       "      <td>b1c0</td>\n",
       "    </tr>\n",
       "    <tr>\n",
       "      <th>5</th>\n",
       "      <td>1</td>\n",
       "      <td>1</td>\n",
       "      <td>0.467846</td>\n",
       "      <td>0.000001</td>\n",
       "      <td>0.0</td>\n",
       "      <td>31.632496</td>\n",
       "      <td>2.063070</td>\n",
       "      <td>0.003212</td>\n",
       "      <td>b1c0</td>\n",
       "    </tr>\n",
       "    <tr>\n",
       "      <th>6</th>\n",
       "      <td>1</td>\n",
       "      <td>1</td>\n",
       "      <td>0.575877</td>\n",
       "      <td>0.000001</td>\n",
       "      <td>0.0</td>\n",
       "      <td>31.632496</td>\n",
       "      <td>2.076204</td>\n",
       "      <td>0.003498</td>\n",
       "      <td>b1c0</td>\n",
       "    </tr>\n",
       "    <tr>\n",
       "      <th>...</th>\n",
       "      <td>...</td>\n",
       "      <td>...</td>\n",
       "      <td>...</td>\n",
       "      <td>...</td>\n",
       "      <td>...</td>\n",
       "      <td>...</td>\n",
       "      <td>...</td>\n",
       "      <td>...</td>\n",
       "      <td>...</td>\n",
       "    </tr>\n",
       "    <tr>\n",
       "      <th>655</th>\n",
       "      <td>1</td>\n",
       "      <td>1</td>\n",
       "      <td>0.047898</td>\n",
       "      <td>1.070823</td>\n",
       "      <td>0.0</td>\n",
       "      <td>29.628511</td>\n",
       "      <td>3.599761</td>\n",
       "      <td>34.106608</td>\n",
       "      <td>b1c0</td>\n",
       "    </tr>\n",
       "    <tr>\n",
       "      <th>656</th>\n",
       "      <td>1</td>\n",
       "      <td>1</td>\n",
       "      <td>0.047905</td>\n",
       "      <td>1.070896</td>\n",
       "      <td>0.0</td>\n",
       "      <td>29.609203</td>\n",
       "      <td>3.599794</td>\n",
       "      <td>34.189852</td>\n",
       "      <td>b1c0</td>\n",
       "    </tr>\n",
       "    <tr>\n",
       "      <th>657</th>\n",
       "      <td>1</td>\n",
       "      <td>1</td>\n",
       "      <td>0.047900</td>\n",
       "      <td>1.070969</td>\n",
       "      <td>0.0</td>\n",
       "      <td>29.604231</td>\n",
       "      <td>3.599821</td>\n",
       "      <td>34.273242</td>\n",
       "      <td>b1c0</td>\n",
       "    </tr>\n",
       "    <tr>\n",
       "      <th>658</th>\n",
       "      <td>1</td>\n",
       "      <td>1</td>\n",
       "      <td>0.047893</td>\n",
       "      <td>1.071042</td>\n",
       "      <td>0.0</td>\n",
       "      <td>29.585907</td>\n",
       "      <td>3.599888</td>\n",
       "      <td>34.356535</td>\n",
       "      <td>b1c0</td>\n",
       "    </tr>\n",
       "    <tr>\n",
       "      <th>659</th>\n",
       "      <td>1</td>\n",
       "      <td>1</td>\n",
       "      <td>0.047895</td>\n",
       "      <td>1.071042</td>\n",
       "      <td>0.0</td>\n",
       "      <td>29.585907</td>\n",
       "      <td>3.599879</td>\n",
       "      <td>34.356583</td>\n",
       "      <td>b1c0</td>\n",
       "    </tr>\n",
       "  </tbody>\n",
       "</table>\n",
       "<p>658 rows × 9 columns</p>\n",
       "</div>"
      ],
      "text/plain": [
       "     Unnamed: 0  index         I        Qc   Qd          T         V  \\\n",
       "2             1      1  0.000000  0.000000  0.0  31.632496  2.026416   \n",
       "3             1      1  0.215908  0.000001  0.0  31.632496  2.039388   \n",
       "4             1      1  0.359831  0.000001  0.0  31.632496  2.051660   \n",
       "5             1      1  0.467846  0.000001  0.0  31.632496  2.063070   \n",
       "6             1      1  0.575877  0.000001  0.0  31.632496  2.076204   \n",
       "..          ...    ...       ...       ...  ...        ...       ...   \n",
       "655           1      1  0.047898  1.070823  0.0  29.628511  3.599761   \n",
       "656           1      1  0.047905  1.070896  0.0  29.609203  3.599794   \n",
       "657           1      1  0.047900  1.070969  0.0  29.604231  3.599821   \n",
       "658           1      1  0.047893  1.071042  0.0  29.585907  3.599888   \n",
       "659           1      1  0.047895  1.071042  0.0  29.585907  3.599879   \n",
       "\n",
       "             t cell_type  \n",
       "2     0.000000      b1c0  \n",
       "3     0.002417      b1c0  \n",
       "4     0.002912      b1c0  \n",
       "5     0.003212      b1c0  \n",
       "6     0.003498      b1c0  \n",
       "..         ...       ...  \n",
       "655  34.106608      b1c0  \n",
       "656  34.189852      b1c0  \n",
       "657  34.273242      b1c0  \n",
       "658  34.356535      b1c0  \n",
       "659  34.356583      b1c0  \n",
       "\n",
       "[658 rows x 9 columns]"
      ]
     },
     "execution_count": 7,
     "metadata": {},
     "output_type": "execute_result"
    }
   ],
   "source": [
    "charge_df"
   ]
  },
  {
   "cell_type": "code",
   "execution_count": 8,
   "metadata": {},
   "outputs": [
    {
     "data": {
      "text/plain": [
       "Text(0.5, 1.0, 'charge capacity')"
      ]
     },
     "execution_count": 8,
     "metadata": {},
     "output_type": "execute_result"
    },
    {
     "data": {
      "image/png": "[encoded data removed]",
      "text/plain": [
       "<Figure size 432x288 with 1 Axes>"
      ]
     },
     "metadata": {
      "needs_background": "light"
     },
     "output_type": "display_data"
    }
   ],
   "source": [
    "plt.plot(charge_df.t, charge_df.Qc)\n",
    "plt.title(\"charge capacity\")"
   ]
  },
  {
   "cell_type": "code",
   "execution_count": 9,
   "metadata": {},
   "outputs": [
    {
     "data": {
      "text/plain": [
       "<matplotlib.legend.Legend at 0x7f8d780b3f70>"
      ]
     },
     "execution_count": 9,
     "metadata": {},
     "output_type": "execute_result"
    },
    {
     "data": {
      "image/png": "[encoded data removed]",
      "text/plain": [
       "<Figure size 432x288 with 1 Axes>"
      ]
     },
     "metadata": {
      "needs_background": "light"
     },
     "output_type": "display_data"
    }
   ],
   "source": [
    "plt.plot(charge_df.t, charge_df.V, label=\"voltage\")\n",
    "plt.plot(charge_df.t, charge_df.I, label=\"current\")\n",
    "plt.legend()"
   ]
  },
  {
   "cell_type": "code",
   "execution_count": 10,
   "metadata": {},
   "outputs": [
    {
     "data": {
      "text/plain": [
       "1.0710422"
      ]
     },
     "execution_count": 10,
     "metadata": {},
     "output_type": "execute_result"
    }
   ],
   "source": [
    "charge_df.Qc.max()"
   ]
  },
  {
   "cell_type": "markdown",
   "metadata": {},
   "source": [
    "# Discharge Profile"
   ]
  },
  {
   "cell_type": "code",
   "execution_count": 11,
   "metadata": {},
   "outputs": [
    {
     "data": {
      "text/plain": [
       "[<matplotlib.lines.Line2D at 0x7f8db82f44f0>]"
      ]
     },
     "execution_count": 11,
     "metadata": {},
     "output_type": "execute_result"
    },
    {
     "data": {
      "image/png": "[encoded data removed]",
      "text/plain": [
       "<Figure size 432x288 with 1 Axes>"
      ]
     },
     "metadata": {
      "needs_background": "light"
     },
     "output_type": "display_data"
    }
   ],
   "source": [
    "plt.plot(discharge_df.t, discharge_df.Qd)"
   ]
  },
  {
   "cell_type": "code",
   "execution_count": 12,
   "metadata": {},
   "outputs": [
    {
     "data": {
      "text/plain": [
       "[<matplotlib.lines.Line2D at 0x7f8d88428f40>]"
      ]
     },
     "execution_count": 12,
     "metadata": {},
     "output_type": "execute_result"
    },
    {
     "data": {
      "image/png": "[encoded data removed]",
      "text/plain": [
       "<Figure size 432x288 with 1 Axes>"
      ]
     },
     "metadata": {
      "needs_background": "light"
     },
     "output_type": "display_data"
    }
   ],
   "source": [
    "plt.plot(discharge_df.t, discharge_df.V)\n",
    "plt.plot(discharge_df.t, discharge_df.I)"
   ]
  },
  {
   "cell_type": "code",
   "execution_count": 13,
   "metadata": {},
   "outputs": [
    {
     "data": {
      "text/html": [
       "<div>\n",
       "<style scoped>\n",
       "    .dataframe tbody tr th:only-of-type {\n",
       "        vertical-align: middle;\n",
       "    }\n",
       "\n",
       "    .dataframe tbody tr th {\n",
       "        vertical-align: top;\n",
       "    }\n",
       "\n",
       "    .dataframe thead th {\n",
       "        text-align: right;\n",
       "    }\n",
       "</style>\n",
       "<table border=\"1\" class=\"dataframe\">\n",
       "  <thead>\n",
       "    <tr style=\"text-align: right;\">\n",
       "      <th></th>\n",
       "      <th>Unnamed: 0</th>\n",
       "      <th>index</th>\n",
       "      <th>I</th>\n",
       "      <th>Qc</th>\n",
       "      <th>Qd</th>\n",
       "      <th>T</th>\n",
       "      <th>V</th>\n",
       "      <th>t</th>\n",
       "      <th>cell_type</th>\n",
       "    </tr>\n",
       "  </thead>\n",
       "  <tbody>\n",
       "    <tr>\n",
       "      <th>660</th>\n",
       "      <td>1</td>\n",
       "      <td>1</td>\n",
       "      <td>-0.439630</td>\n",
       "      <td>1.071042</td>\n",
       "      <td>0.000000</td>\n",
       "      <td>29.585907</td>\n",
       "      <td>3.589563</td>\n",
       "      <td>34.358435</td>\n",
       "      <td>b1c0</td>\n",
       "    </tr>\n",
       "    <tr>\n",
       "      <th>661</th>\n",
       "      <td>1</td>\n",
       "      <td>1</td>\n",
       "      <td>-0.920006</td>\n",
       "      <td>1.071042</td>\n",
       "      <td>0.000000</td>\n",
       "      <td>29.585907</td>\n",
       "      <td>3.578016</td>\n",
       "      <td>34.359667</td>\n",
       "      <td>b1c0</td>\n",
       "    </tr>\n",
       "    <tr>\n",
       "      <th>662</th>\n",
       "      <td>1</td>\n",
       "      <td>1</td>\n",
       "      <td>-1.319441</td>\n",
       "      <td>1.071042</td>\n",
       "      <td>0.000000</td>\n",
       "      <td>29.585907</td>\n",
       "      <td>3.567860</td>\n",
       "      <td>34.360843</td>\n",
       "      <td>b1c0</td>\n",
       "    </tr>\n",
       "    <tr>\n",
       "      <th>663</th>\n",
       "      <td>1</td>\n",
       "      <td>1</td>\n",
       "      <td>-1.760221</td>\n",
       "      <td>1.071042</td>\n",
       "      <td>0.000000</td>\n",
       "      <td>29.585907</td>\n",
       "      <td>3.556234</td>\n",
       "      <td>34.361923</td>\n",
       "      <td>b1c0</td>\n",
       "    </tr>\n",
       "    <tr>\n",
       "      <th>664</th>\n",
       "      <td>1</td>\n",
       "      <td>1</td>\n",
       "      <td>-2.119897</td>\n",
       "      <td>1.071042</td>\n",
       "      <td>0.000128</td>\n",
       "      <td>29.585907</td>\n",
       "      <td>3.546163</td>\n",
       "      <td>34.362980</td>\n",
       "      <td>b1c0</td>\n",
       "    </tr>\n",
       "    <tr>\n",
       "      <th>...</th>\n",
       "      <td>...</td>\n",
       "      <td>...</td>\n",
       "      <td>...</td>\n",
       "      <td>...</td>\n",
       "      <td>...</td>\n",
       "      <td>...</td>\n",
       "      <td>...</td>\n",
       "      <td>...</td>\n",
       "      <td>...</td>\n",
       "    </tr>\n",
       "    <tr>\n",
       "      <th>1083</th>\n",
       "      <td>1</td>\n",
       "      <td>1</td>\n",
       "      <td>-0.034730</td>\n",
       "      <td>1.071042</td>\n",
       "      <td>1.070677</td>\n",
       "      <td>31.712118</td>\n",
       "      <td>2.000016</td>\n",
       "      <td>54.337468</td>\n",
       "      <td>b1c0</td>\n",
       "    </tr>\n",
       "    <tr>\n",
       "      <th>1084</th>\n",
       "      <td>1</td>\n",
       "      <td>1</td>\n",
       "      <td>-0.034227</td>\n",
       "      <td>1.071042</td>\n",
       "      <td>1.070688</td>\n",
       "      <td>31.712118</td>\n",
       "      <td>1.999842</td>\n",
       "      <td>54.357120</td>\n",
       "      <td>b1c0</td>\n",
       "    </tr>\n",
       "    <tr>\n",
       "      <th>1085</th>\n",
       "      <td>1</td>\n",
       "      <td>1</td>\n",
       "      <td>-0.034227</td>\n",
       "      <td>1.071042</td>\n",
       "      <td>1.070689</td>\n",
       "      <td>31.712118</td>\n",
       "      <td>2.002296</td>\n",
       "      <td>54.358155</td>\n",
       "      <td>b1c0</td>\n",
       "    </tr>\n",
       "    <tr>\n",
       "      <th>1086</th>\n",
       "      <td>1</td>\n",
       "      <td>1</td>\n",
       "      <td>-0.034227</td>\n",
       "      <td>1.071042</td>\n",
       "      <td>1.070689</td>\n",
       "      <td>31.712118</td>\n",
       "      <td>2.012406</td>\n",
       "      <td>54.365115</td>\n",
       "      <td>b1c0</td>\n",
       "    </tr>\n",
       "    <tr>\n",
       "      <th>1087</th>\n",
       "      <td>1</td>\n",
       "      <td>1</td>\n",
       "      <td>-0.034227</td>\n",
       "      <td>1.071042</td>\n",
       "      <td>1.070689</td>\n",
       "      <td>31.712118</td>\n",
       "      <td>2.022461</td>\n",
       "      <td>54.372673</td>\n",
       "      <td>b1c0</td>\n",
       "    </tr>\n",
       "  </tbody>\n",
       "</table>\n",
       "<p>428 rows × 9 columns</p>\n",
       "</div>"
      ],
      "text/plain": [
       "      Unnamed: 0  index         I        Qc        Qd          T         V  \\\n",
       "660            1      1 -0.439630  1.071042  0.000000  29.585907  3.589563   \n",
       "661            1      1 -0.920006  1.071042  0.000000  29.585907  3.578016   \n",
       "662            1      1 -1.319441  1.071042  0.000000  29.585907  3.567860   \n",
       "663            1      1 -1.760221  1.071042  0.000000  29.585907  3.556234   \n",
       "664            1      1 -2.119897  1.071042  0.000128  29.585907  3.546163   \n",
       "...          ...    ...       ...       ...       ...        ...       ...   \n",
       "1083           1      1 -0.034730  1.071042  1.070677  31.712118  2.000016   \n",
       "1084           1      1 -0.034227  1.071042  1.070688  31.712118  1.999842   \n",
       "1085           1      1 -0.034227  1.071042  1.070689  31.712118  2.002296   \n",
       "1086           1      1 -0.034227  1.071042  1.070689  31.712118  2.012406   \n",
       "1087           1      1 -0.034227  1.071042  1.070689  31.712118  2.022461   \n",
       "\n",
       "              t cell_type  \n",
       "660   34.358435      b1c0  \n",
       "661   34.359667      b1c0  \n",
       "662   34.360843      b1c0  \n",
       "663   34.361923      b1c0  \n",
       "664   34.362980      b1c0  \n",
       "...         ...       ...  \n",
       "1083  54.337468      b1c0  \n",
       "1084  54.357120      b1c0  \n",
       "1085  54.358155      b1c0  \n",
       "1086  54.365115      b1c0  \n",
       "1087  54.372673      b1c0  \n",
       "\n",
       "[428 rows x 9 columns]"
      ]
     },
     "execution_count": 13,
     "metadata": {},
     "output_type": "execute_result"
    }
   ],
   "source": [
    "discharge_df"
   ]
  },
  {
   "cell_type": "markdown",
   "metadata": {},
   "source": [
    "# Target Variable"
   ]
  },
  {
   "cell_type": "code",
   "execution_count": 14,
   "metadata": {},
   "outputs": [],
   "source": [
    "charge_all_cycles = batch1[(batch1.I >= 0) & (batch1.Qd == 0)]\n",
    "discharge_all_cycles = batch1[batch1.I < 0]"
   ]
  },
  {
   "cell_type": "code",
   "execution_count": 15,
   "metadata": {},
   "outputs": [],
   "source": [
    "\n",
    "features = charge_all_cycles.groupby([\"cell_type\", \"index\"]).agg({\"I\": [\"mean\", \"std\"], \"V\": [\"mean\", \"std\"]})\n",
    "features[\"Id\"] = discharge_all_cycles.groupby([\"cell_type\", \"index\"]).I.min()"
   ]
  },
  {
   "cell_type": "code",
   "execution_count": 16,
   "metadata": {},
   "outputs": [
    {
     "data": {
      "text/html": [
       "<div>\n",
       "<style scoped>\n",
       "    .dataframe tbody tr th:only-of-type {\n",
       "        vertical-align: middle;\n",
       "    }\n",
       "\n",
       "    .dataframe tbody tr th {\n",
       "        vertical-align: top;\n",
       "    }\n",
       "\n",
       "    .dataframe thead tr th {\n",
       "        text-align: left;\n",
       "    }\n",
       "\n",
       "    .dataframe thead tr:last-of-type th {\n",
       "        text-align: right;\n",
       "    }\n",
       "</style>\n",
       "<table border=\"1\" class=\"dataframe\">\n",
       "  <thead>\n",
       "    <tr>\n",
       "      <th></th>\n",
       "      <th></th>\n",
       "      <th colspan=\"2\" halign=\"left\">I</th>\n",
       "      <th colspan=\"2\" halign=\"left\">V</th>\n",
       "      <th>Id</th>\n",
       "    </tr>\n",
       "    <tr>\n",
       "      <th></th>\n",
       "      <th></th>\n",
       "      <th>mean</th>\n",
       "      <th>std</th>\n",
       "      <th>mean</th>\n",
       "      <th>std</th>\n",
       "      <th></th>\n",
       "    </tr>\n",
       "    <tr>\n",
       "      <th>cell_type</th>\n",
       "      <th>index</th>\n",
       "      <th></th>\n",
       "      <th></th>\n",
       "      <th></th>\n",
       "      <th></th>\n",
       "      <th></th>\n",
       "    </tr>\n",
       "  </thead>\n",
       "  <tbody>\n",
       "    <tr>\n",
       "      <th rowspan=\"5\" valign=\"top\">b1c0</th>\n",
       "      <th>0</th>\n",
       "      <td>0.000000</td>\n",
       "      <td>0.000000</td>\n",
       "      <td>0.000000</td>\n",
       "      <td>0.000000</td>\n",
       "      <td>NaN</td>\n",
       "    </tr>\n",
       "    <tr>\n",
       "      <th>1</th>\n",
       "      <td>1.888059</td>\n",
       "      <td>1.540649</td>\n",
       "      <td>3.371237</td>\n",
       "      <td>0.332757</td>\n",
       "      <td>-4.001016</td>\n",
       "    </tr>\n",
       "    <tr>\n",
       "      <th>2</th>\n",
       "      <td>1.875325</td>\n",
       "      <td>1.555370</td>\n",
       "      <td>3.377389</td>\n",
       "      <td>0.322449</td>\n",
       "      <td>-4.001594</td>\n",
       "    </tr>\n",
       "    <tr>\n",
       "      <th>3</th>\n",
       "      <td>1.888923</td>\n",
       "      <td>1.552188</td>\n",
       "      <td>3.372597</td>\n",
       "      <td>0.326271</td>\n",
       "      <td>-4.001225</td>\n",
       "    </tr>\n",
       "    <tr>\n",
       "      <th>4</th>\n",
       "      <td>1.828081</td>\n",
       "      <td>1.538320</td>\n",
       "      <td>3.373100</td>\n",
       "      <td>0.328886</td>\n",
       "      <td>-4.001068</td>\n",
       "    </tr>\n",
       "    <tr>\n",
       "      <th>...</th>\n",
       "      <th>...</th>\n",
       "      <td>...</td>\n",
       "      <td>...</td>\n",
       "      <td>...</td>\n",
       "      <td>...</td>\n",
       "      <td>...</td>\n",
       "    </tr>\n",
       "    <tr>\n",
       "      <th rowspan=\"5\" valign=\"top\">b1c9</th>\n",
       "      <th>1048</th>\n",
       "      <td>4.430667</td>\n",
       "      <td>1.593626</td>\n",
       "      <td>3.047727</td>\n",
       "      <td>0.489099</td>\n",
       "      <td>-4.000421</td>\n",
       "    </tr>\n",
       "    <tr>\n",
       "      <th>1049</th>\n",
       "      <td>4.463918</td>\n",
       "      <td>1.577428</td>\n",
       "      <td>3.043812</td>\n",
       "      <td>0.487641</td>\n",
       "      <td>-4.000582</td>\n",
       "    </tr>\n",
       "    <tr>\n",
       "      <th>1050</th>\n",
       "      <td>4.398965</td>\n",
       "      <td>1.615627</td>\n",
       "      <td>3.056788</td>\n",
       "      <td>0.483037</td>\n",
       "      <td>-4.000466</td>\n",
       "    </tr>\n",
       "    <tr>\n",
       "      <th>1051</th>\n",
       "      <td>4.378029</td>\n",
       "      <td>1.607432</td>\n",
       "      <td>3.040933</td>\n",
       "      <td>0.486592</td>\n",
       "      <td>-4.000477</td>\n",
       "    </tr>\n",
       "    <tr>\n",
       "      <th>1052</th>\n",
       "      <td>4.444758</td>\n",
       "      <td>1.599785</td>\n",
       "      <td>3.046391</td>\n",
       "      <td>0.492141</td>\n",
       "      <td>-4.000521</td>\n",
       "    </tr>\n",
       "  </tbody>\n",
       "</table>\n",
       "<p>38749 rows × 5 columns</p>\n",
       "</div>"
      ],
      "text/plain": [
       "                        I                   V                  Id\n",
       "                     mean       std      mean       std          \n",
       "cell_type index                                                  \n",
       "b1c0      0      0.000000  0.000000  0.000000  0.000000       NaN\n",
       "          1      1.888059  1.540649  3.371237  0.332757 -4.001016\n",
       "          2      1.875325  1.555370  3.377389  0.322449 -4.001594\n",
       "          3      1.888923  1.552188  3.372597  0.326271 -4.001225\n",
       "          4      1.828081  1.538320  3.373100  0.328886 -4.001068\n",
       "...                   ...       ...       ...       ...       ...\n",
       "b1c9      1048   4.430667  1.593626  3.047727  0.489099 -4.000421\n",
       "          1049   4.463918  1.577428  3.043812  0.487641 -4.000582\n",
       "          1050   4.398965  1.615627  3.056788  0.483037 -4.000466\n",
       "          1051   4.378029  1.607432  3.040933  0.486592 -4.000477\n",
       "          1052   4.444758  1.599785  3.046391  0.492141 -4.000521\n",
       "\n",
       "[38749 rows x 5 columns]"
      ]
     },
     "execution_count": 16,
     "metadata": {},
     "output_type": "execute_result"
    }
   ],
   "source": [
    "features"
   ]
  },
  {
   "cell_type": "code",
   "execution_count": 17,
   "metadata": {},
   "outputs": [],
   "source": [
    "features[\"label\"] = discharge_all_cycles.groupby([\"cell_type\", \"index\"]).Qd.max()"
   ]
  },
  {
   "cell_type": "code",
   "execution_count": 19,
   "metadata": {},
   "outputs": [
    {
     "data": {
      "text/html": [
       "<div>\n",
       "<style scoped>\n",
       "    .dataframe tbody tr th:only-of-type {\n",
       "        vertical-align: middle;\n",
       "    }\n",
       "\n",
       "    .dataframe tbody tr th {\n",
       "        vertical-align: top;\n",
       "    }\n",
       "\n",
       "    .dataframe thead tr th {\n",
       "        text-align: left;\n",
       "    }\n",
       "\n",
       "    .dataframe thead tr:last-of-type th {\n",
       "        text-align: right;\n",
       "    }\n",
       "</style>\n",
       "<table border=\"1\" class=\"dataframe\">\n",
       "  <thead>\n",
       "    <tr>\n",
       "      <th></th>\n",
       "      <th></th>\n",
       "      <th colspan=\"2\" halign=\"left\">I</th>\n",
       "      <th colspan=\"2\" halign=\"left\">V</th>\n",
       "      <th>Id</th>\n",
       "      <th>label</th>\n",
       "    </tr>\n",
       "    <tr>\n",
       "      <th></th>\n",
       "      <th></th>\n",
       "      <th>mean</th>\n",
       "      <th>std</th>\n",
       "      <th>mean</th>\n",
       "      <th>std</th>\n",
       "      <th></th>\n",
       "      <th></th>\n",
       "    </tr>\n",
       "    <tr>\n",
       "      <th>cell_type</th>\n",
       "      <th>index</th>\n",
       "      <th></th>\n",
       "      <th></th>\n",
       "      <th></th>\n",
       "      <th></th>\n",
       "      <th></th>\n",
       "      <th></th>\n",
       "    </tr>\n",
       "  </thead>\n",
       "  <tbody>\n",
       "    <tr>\n",
       "      <th rowspan=\"5\" valign=\"top\">b1c0</th>\n",
       "      <th>0</th>\n",
       "      <td>0.000000</td>\n",
       "      <td>0.000000</td>\n",
       "      <td>0.000000</td>\n",
       "      <td>0.000000</td>\n",
       "      <td>NaN</td>\n",
       "      <td>NaN</td>\n",
       "    </tr>\n",
       "    <tr>\n",
       "      <th>1</th>\n",
       "      <td>1.888059</td>\n",
       "      <td>1.540649</td>\n",
       "      <td>3.371237</td>\n",
       "      <td>0.332757</td>\n",
       "      <td>-4.001016</td>\n",
       "      <td>1.070689</td>\n",
       "    </tr>\n",
       "    <tr>\n",
       "      <th>2</th>\n",
       "      <td>1.875325</td>\n",
       "      <td>1.555370</td>\n",
       "      <td>3.377389</td>\n",
       "      <td>0.322449</td>\n",
       "      <td>-4.001594</td>\n",
       "      <td>1.071900</td>\n",
       "    </tr>\n",
       "    <tr>\n",
       "      <th>3</th>\n",
       "      <td>1.888923</td>\n",
       "      <td>1.552188</td>\n",
       "      <td>3.372597</td>\n",
       "      <td>0.326271</td>\n",
       "      <td>-4.001225</td>\n",
       "      <td>1.072510</td>\n",
       "    </tr>\n",
       "    <tr>\n",
       "      <th>4</th>\n",
       "      <td>1.828081</td>\n",
       "      <td>1.538320</td>\n",
       "      <td>3.373100</td>\n",
       "      <td>0.328886</td>\n",
       "      <td>-4.001068</td>\n",
       "      <td>1.073174</td>\n",
       "    </tr>\n",
       "    <tr>\n",
       "      <th>...</th>\n",
       "      <th>...</th>\n",
       "      <td>...</td>\n",
       "      <td>...</td>\n",
       "      <td>...</td>\n",
       "      <td>...</td>\n",
       "      <td>...</td>\n",
       "      <td>...</td>\n",
       "    </tr>\n",
       "    <tr>\n",
       "      <th rowspan=\"5\" valign=\"top\">b1c9</th>\n",
       "      <th>1048</th>\n",
       "      <td>4.430667</td>\n",
       "      <td>1.593626</td>\n",
       "      <td>3.047727</td>\n",
       "      <td>0.489099</td>\n",
       "      <td>-4.000421</td>\n",
       "      <td>0.884375</td>\n",
       "    </tr>\n",
       "    <tr>\n",
       "      <th>1049</th>\n",
       "      <td>4.463918</td>\n",
       "      <td>1.577428</td>\n",
       "      <td>3.043812</td>\n",
       "      <td>0.487641</td>\n",
       "      <td>-4.000582</td>\n",
       "      <td>0.885041</td>\n",
       "    </tr>\n",
       "    <tr>\n",
       "      <th>1050</th>\n",
       "      <td>4.398965</td>\n",
       "      <td>1.615627</td>\n",
       "      <td>3.056788</td>\n",
       "      <td>0.483037</td>\n",
       "      <td>-4.000466</td>\n",
       "      <td>0.883019</td>\n",
       "    </tr>\n",
       "    <tr>\n",
       "      <th>1051</th>\n",
       "      <td>4.378029</td>\n",
       "      <td>1.607432</td>\n",
       "      <td>3.040933</td>\n",
       "      <td>0.486592</td>\n",
       "      <td>-4.000477</td>\n",
       "      <td>0.882054</td>\n",
       "    </tr>\n",
       "    <tr>\n",
       "      <th>1052</th>\n",
       "      <td>4.444758</td>\n",
       "      <td>1.599785</td>\n",
       "      <td>3.046391</td>\n",
       "      <td>0.492141</td>\n",
       "      <td>-4.000521</td>\n",
       "      <td>0.880928</td>\n",
       "    </tr>\n",
       "  </tbody>\n",
       "</table>\n",
       "<p>38749 rows × 6 columns</p>\n",
       "</div>"
      ],
      "text/plain": [
       "                        I                   V                  Id     label\n",
       "                     mean       std      mean       std                    \n",
       "cell_type index                                                            \n",
       "b1c0      0      0.000000  0.000000  0.000000  0.000000       NaN       NaN\n",
       "          1      1.888059  1.540649  3.371237  0.332757 -4.001016  1.070689\n",
       "          2      1.875325  1.555370  3.377389  0.322449 -4.001594  1.071900\n",
       "          3      1.888923  1.552188  3.372597  0.326271 -4.001225  1.072510\n",
       "          4      1.828081  1.538320  3.373100  0.328886 -4.001068  1.073174\n",
       "...                   ...       ...       ...       ...       ...       ...\n",
       "b1c9      1048   4.430667  1.593626  3.047727  0.489099 -4.000421  0.884375\n",
       "          1049   4.463918  1.577428  3.043812  0.487641 -4.000582  0.885041\n",
       "          1050   4.398965  1.615627  3.056788  0.483037 -4.000466  0.883019\n",
       "          1051   4.378029  1.607432  3.040933  0.486592 -4.000477  0.882054\n",
       "          1052   4.444758  1.599785  3.046391  0.492141 -4.000521  0.880928\n",
       "\n",
       "[38749 rows x 6 columns]"
      ]
     },
     "execution_count": 19,
     "metadata": {},
     "output_type": "execute_result"
    }
   ],
   "source": [
    "features"
   ]
  },
  {
   "cell_type": "code",
   "execution_count": 20,
   "metadata": {},
   "outputs": [
    {
     "data": {
      "text/plain": [
       "<AxesSubplot:xlabel='cell_type,index'>"
      ]
     },
     "execution_count": 20,
     "metadata": {},
     "output_type": "execute_result"
    },
    {
     "data": {
      "image/png": "[encoded data removed]",
      "text/plain": [
       "<Figure size 432x288 with 1 Axes>"
      ]
     },
     "metadata": {
      "needs_background": "light"
     },
     "output_type": "display_data"
    }
   ],
   "source": [
    "idx = pd.IndexSlice\n",
    "features.loc[idx['b1c9', :], \"label\"].plot()"
   ]
  },
  {
   "cell_type": "code",
   "execution_count": 23,
   "metadata": {},
   "outputs": [],
   "source": [
    "features = features.dropna()"
   ]
  },
  {
   "cell_type": "code",
   "execution_count": 77,
   "metadata": {},
   "outputs": [],
   "source": [
    "features = features[features.label < 1.1]"
   ]
  },
  {
   "cell_type": "code",
   "execution_count": 80,
   "metadata": {},
   "outputs": [
    {
     "data": {
      "text/html": [
       "<div>\n",
       "<style scoped>\n",
       "    .dataframe tbody tr th:only-of-type {\n",
       "        vertical-align: middle;\n",
       "    }\n",
       "\n",
       "    .dataframe tbody tr th {\n",
       "        vertical-align: top;\n",
       "    }\n",
       "\n",
       "    .dataframe thead tr th {\n",
       "        text-align: left;\n",
       "    }\n",
       "</style>\n",
       "<table border=\"1\" class=\"dataframe\">\n",
       "  <thead>\n",
       "    <tr>\n",
       "      <th></th>\n",
       "      <th colspan=\"2\" halign=\"left\">I</th>\n",
       "      <th colspan=\"2\" halign=\"left\">V</th>\n",
       "      <th>Id</th>\n",
       "    </tr>\n",
       "    <tr>\n",
       "      <th></th>\n",
       "      <th>mean</th>\n",
       "      <th>std</th>\n",
       "      <th>mean</th>\n",
       "      <th>std</th>\n",
       "      <th></th>\n",
       "    </tr>\n",
       "  </thead>\n",
       "  <tbody>\n",
       "    <tr>\n",
       "      <th>0</th>\n",
       "      <td>1.888059</td>\n",
       "      <td>1.540649</td>\n",
       "      <td>3.371237</td>\n",
       "      <td>0.332757</td>\n",
       "      <td>-4.001016</td>\n",
       "    </tr>\n",
       "    <tr>\n",
       "      <th>1</th>\n",
       "      <td>1.875325</td>\n",
       "      <td>1.555370</td>\n",
       "      <td>3.377389</td>\n",
       "      <td>0.322449</td>\n",
       "      <td>-4.001594</td>\n",
       "    </tr>\n",
       "    <tr>\n",
       "      <th>2</th>\n",
       "      <td>1.888923</td>\n",
       "      <td>1.552188</td>\n",
       "      <td>3.372597</td>\n",
       "      <td>0.326271</td>\n",
       "      <td>-4.001225</td>\n",
       "    </tr>\n",
       "    <tr>\n",
       "      <th>3</th>\n",
       "      <td>1.828081</td>\n",
       "      <td>1.538320</td>\n",
       "      <td>3.373100</td>\n",
       "      <td>0.328886</td>\n",
       "      <td>-4.001068</td>\n",
       "    </tr>\n",
       "    <tr>\n",
       "      <th>4</th>\n",
       "      <td>1.870990</td>\n",
       "      <td>1.554969</td>\n",
       "      <td>3.376715</td>\n",
       "      <td>0.323520</td>\n",
       "      <td>-4.001379</td>\n",
       "    </tr>\n",
       "    <tr>\n",
       "      <th>...</th>\n",
       "      <td>...</td>\n",
       "      <td>...</td>\n",
       "      <td>...</td>\n",
       "      <td>...</td>\n",
       "      <td>...</td>\n",
       "    </tr>\n",
       "    <tr>\n",
       "      <th>18097</th>\n",
       "      <td>4.430667</td>\n",
       "      <td>1.593626</td>\n",
       "      <td>3.047727</td>\n",
       "      <td>0.489099</td>\n",
       "      <td>-4.000421</td>\n",
       "    </tr>\n",
       "    <tr>\n",
       "      <th>18098</th>\n",
       "      <td>4.463918</td>\n",
       "      <td>1.577428</td>\n",
       "      <td>3.043812</td>\n",
       "      <td>0.487641</td>\n",
       "      <td>-4.000582</td>\n",
       "    </tr>\n",
       "    <tr>\n",
       "      <th>18099</th>\n",
       "      <td>4.398965</td>\n",
       "      <td>1.615627</td>\n",
       "      <td>3.056788</td>\n",
       "      <td>0.483037</td>\n",
       "      <td>-4.000466</td>\n",
       "    </tr>\n",
       "    <tr>\n",
       "      <th>18100</th>\n",
       "      <td>4.378029</td>\n",
       "      <td>1.607432</td>\n",
       "      <td>3.040933</td>\n",
       "      <td>0.486592</td>\n",
       "      <td>-4.000477</td>\n",
       "    </tr>\n",
       "    <tr>\n",
       "      <th>18101</th>\n",
       "      <td>4.444758</td>\n",
       "      <td>1.599785</td>\n",
       "      <td>3.046391</td>\n",
       "      <td>0.492141</td>\n",
       "      <td>-4.000521</td>\n",
       "    </tr>\n",
       "  </tbody>\n",
       "</table>\n",
       "<p>18102 rows × 5 columns</p>\n",
       "</div>"
      ],
      "text/plain": [
       "              I                   V                  Id\n",
       "           mean       std      mean       std          \n",
       "0      1.888059  1.540649  3.371237  0.332757 -4.001016\n",
       "1      1.875325  1.555370  3.377389  0.322449 -4.001594\n",
       "2      1.888923  1.552188  3.372597  0.326271 -4.001225\n",
       "3      1.828081  1.538320  3.373100  0.328886 -4.001068\n",
       "4      1.870990  1.554969  3.376715  0.323520 -4.001379\n",
       "...         ...       ...       ...       ...       ...\n",
       "18097  4.430667  1.593626  3.047727  0.489099 -4.000421\n",
       "18098  4.463918  1.577428  3.043812  0.487641 -4.000582\n",
       "18099  4.398965  1.615627  3.056788  0.483037 -4.000466\n",
       "18100  4.378029  1.607432  3.040933  0.486592 -4.000477\n",
       "18101  4.444758  1.599785  3.046391  0.492141 -4.000521\n",
       "\n",
       "[18102 rows x 5 columns]"
      ]
     },
     "execution_count": 80,
     "metadata": {},
     "output_type": "execute_result"
    }
   ],
   "source": [
    "X = features[[\"I\", \"V\", \"Id\"]].reset_index(drop=True)\n",
    "X"
   ]
  },
  {
   "cell_type": "code",
   "execution_count": 81,
   "metadata": {},
   "outputs": [
    {
     "data": {
      "text/plain": [
       "0        1.070689\n",
       "1        1.071900\n",
       "2        1.072510\n",
       "3        1.073174\n",
       "4        1.073576\n",
       "           ...   \n",
       "18097    0.884375\n",
       "18098    0.885041\n",
       "18099    0.883019\n",
       "18100    0.882054\n",
       "18101    0.880928\n",
       "Name: label, Length: 18102, dtype: float64"
      ]
     },
     "execution_count": 81,
     "metadata": {},
     "output_type": "execute_result"
    }
   ],
   "source": [
    "Y = features[\"label\"].reset_index(drop=True)\n",
    "Y"
   ]
  },
  {
   "cell_type": "code",
   "execution_count": 82,
   "metadata": {},
   "outputs": [
    {
     "data": {
      "text/plain": [
       "1.0982422"
      ]
     },
     "execution_count": 82,
     "metadata": {},
     "output_type": "execute_result"
    }
   ],
   "source": [
    "np.max(Y)"
   ]
  },
  {
   "cell_type": "code",
   "execution_count": 83,
   "metadata": {},
   "outputs": [],
   "source": [
    "from sklearn.model_selection import train_test_split\n",
    "from sklearn.linear_model import LinearRegression"
   ]
  },
  {
   "cell_type": "code",
   "execution_count": 84,
   "metadata": {},
   "outputs": [],
   "source": [
    "X_train, X_test, Y_train, Y_test = train_test_split(X.values, Y.values, train_size=0.8)"
   ]
  },
  {
   "cell_type": "code",
   "execution_count": 85,
   "metadata": {},
   "outputs": [
    {
     "name": "stdout",
     "output_type": "stream",
     "text": [
      "(14481, 5) (14481,) (3621, 5) (3621,)\n"
     ]
    }
   ],
   "source": [
    "print(X_train.shape, Y_train.shape, X_test.shape, Y_test.shape)"
   ]
  },
  {
   "cell_type": "code",
   "execution_count": 86,
   "metadata": {},
   "outputs": [],
   "source": [
    "lr = LinearRegression()"
   ]
  },
  {
   "cell_type": "code",
   "execution_count": 87,
   "metadata": {},
   "outputs": [
    {
     "data": {
      "text/plain": [
       "LinearRegression()"
      ]
     },
     "execution_count": 87,
     "metadata": {},
     "output_type": "execute_result"
    }
   ],
   "source": [
    "lr.fit(X_train, Y_train)"
   ]
  },
  {
   "cell_type": "code",
   "execution_count": 88,
   "metadata": {},
   "outputs": [],
   "source": [
    "Y_pred = lr.predict(X_test)"
   ]
  },
  {
   "cell_type": "code",
   "execution_count": 89,
   "metadata": {},
   "outputs": [
    {
     "data": {
      "text/plain": [
       "0.2658814745220043"
      ]
     },
     "execution_count": 89,
     "metadata": {},
     "output_type": "execute_result"
    }
   ],
   "source": [
    "score = lr.score(X_test, Y_test)\n",
    "score"
   ]
  },
  {
   "cell_type": "code",
   "execution_count": 90,
   "metadata": {},
   "outputs": [
    {
     "data": {
      "text/plain": [
       "0.2028485788136265"
      ]
     },
     "execution_count": 90,
     "metadata": {},
     "output_type": "execute_result"
    }
   ],
   "source": [
    "lr.score(X_train, Y_train)"
   ]
  },
  {
   "cell_type": "code",
   "execution_count": 91,
   "metadata": {},
   "outputs": [
    {
     "data": {
      "text/plain": [
       "<matplotlib.collections.PathCollection at 0x7f8d7a4a3310>"
      ]
     },
     "execution_count": 91,
     "metadata": {},
     "output_type": "execute_result"
    },
    {
     "data": {
      "image/png": "[encoded data removed]",
      "text/plain": [
       "<Figure size 432x288 with 1 Axes>"
      ]
     },
     "metadata": {
      "needs_background": "light"
     },
     "output_type": "display_data"
    }
   ],
   "source": [
    "plt.scatter(X_train[:, 2], Y_train)"
   ]
  },
  {
   "cell_type": "code",
   "execution_count": 66,
   "metadata": {},
   "outputs": [
    {
     "data": {
      "text/plain": [
       "2.884083"
      ]
     },
     "execution_count": 66,
     "metadata": {},
     "output_type": "execute_result"
    }
   ],
   "source": [
    "import numpy as np\n",
    "np.max(Y_train)"
   ]
  },
  {
   "cell_type": "code",
   "execution_count": 67,
   "metadata": {},
   "outputs": [
    {
     "data": {
      "text/plain": [
       "2.884083"
      ]
     },
     "execution_count": 67,
     "metadata": {},
     "output_type": "execute_result"
    }
   ],
   "source": [
    "features['label'].max()"
   ]
  },
  {
   "cell_type": "code",
   "execution_count": 69,
   "metadata": {},
   "outputs": [
    {
     "data": {
      "text/plain": [
       "Qc    1.071042\n",
       "Qd    0.000000\n",
       "dtype: float64"
      ]
     },
     "execution_count": 69,
     "metadata": {},
     "output_type": "execute_result"
    }
   ],
   "source": [
    "charge_df[[\"Qc\", \"Qd\"]].max()"
   ]
  },
  {
   "cell_type": "code",
   "execution_count": 72,
   "metadata": {},
   "outputs": [
    {
     "data": {
      "text/plain": [
       "1.0710422"
      ]
     },
     "execution_count": 72,
     "metadata": {},
     "output_type": "execute_result"
    }
   ],
   "source": [
    "discharge_df[\"Qc\"].max()"
   ]
  },
  {
   "cell_type": "code",
   "execution_count": 74,
   "metadata": {},
   "outputs": [
    {
     "data": {
      "text/plain": [
       "7570677"
      ]
     },
     "execution_count": 74,
     "metadata": {},
     "output_type": "execute_result"
    }
   ],
   "source": [
    "discharge_all_cycles.Qd.argmax()"
   ]
  },
  {
   "cell_type": "code",
   "execution_count": 76,
   "metadata": {},
   "outputs": [
    {
     "data": {
      "text/plain": [
       "Unnamed: 0             39\n",
       "index                  39\n",
       "I               -0.099939\n",
       "Qc               2.938399\n",
       "Qd               2.884083\n",
       "T               31.207449\n",
       "V                2.000312\n",
       "t             2721.108057\n",
       "cell_type           b1c18\n",
       "Name: 18459246, dtype: object"
      ]
     },
     "execution_count": 76,
     "metadata": {},
     "output_type": "execute_result"
    }
   ],
   "source": [
    "discharge_all_cycles.iloc[discharge_all_cycles.Qd.argmax()]"
   ]
  },
  {
   "cell_type": "code",
   "execution_count": null,
   "metadata": {},
   "outputs": [],
   "source": []
  }
 ],
 "metadata": {
  "kernelspec": {
   "display_name": "Python 3.9.12 ('base')",
   "language": "python",
   "name": "python3"
  },
  "language_info": {
   "codemirror_mode": {
    "name": "ipython",
    "version": 3
   },
   "file_extension": ".py",
   "mimetype": "text/x-python",
   "name": "python",
   "nbconvert_exporter": "python",
   "pygments_lexer": "ipython3",
   "version": "3.9.12"
  },
  "orig_nbformat": 4,
  "vscode": {
   "interpreter": {
    "hash": "2fd157f93b64c9f2d745018c2b4ce82b38b41bad83b04e60b1ce4052ac3b68f8"
   }
  }
 },
 "nbformat": 4,
 "nbformat_minor": 2
}
